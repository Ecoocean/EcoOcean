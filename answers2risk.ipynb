{
 "cells": [
  {
   "cell_type": "code",
   "execution_count": 12,
   "metadata": {},
   "outputs": [],
   "source": [
    "import functools\n",
    "# 9 Answers total\n",
    "example_answers = {\n",
    "    1: 6, # 1 - 6, Original: 1\n",
    "    2: 1, # 1 - 4, Original: 3\n",
    "    3: 2, # 1 - 3, Original: 4\n",
    "    4: 3, # 1 - 3, Original: 5\n",
    "    5: 2, # 1 - 5, Original: 7\n",
    "    6: 5, # 1 - 5, Original: 8\n",
    "    7: 4, # 1 - 5, Original: 9\n",
    "    8: 3, # 1 - 4, Original: 10\n",
    "}\n",
    "\n",
    "\n",
    "horizon_qa = {q:a for q,a in example_answers.items() if q == 1}\n",
    "\n",
    "def updated_risk_keys(old):\n",
    "    return {\n",
    "        2: 3,\n",
    "        3: 4,\n",
    "        4: 5,\n",
    "        5: 7,\n",
    "        6: 8,\n",
    "        7: 9,\n",
    "        8: 10\n",
    "    }[old]\n",
    "\n",
    "risk_qa = {updated_risk_keys(q):a for q,a in example_answers.items() if q != 1}"
   ]
  },
  {
   "cell_type": "code",
   "execution_count": 13,
   "metadata": {},
   "outputs": [
    {
     "data": {
      "text/plain": [
       "{1: 6}"
      ]
     },
     "execution_count": 13,
     "metadata": {},
     "output_type": "execute_result"
    }
   ],
   "source": [
    "horizon_qa"
   ]
  },
  {
   "cell_type": "code",
   "execution_count": 14,
   "metadata": {},
   "outputs": [
    {
     "data": {
      "text/plain": [
       "{3: 1, 4: 2, 5: 3, 7: 2, 8: 5, 9: 4, 10: 3}"
      ]
     },
     "execution_count": 14,
     "metadata": {},
     "output_type": "execute_result"
    }
   ],
   "source": [
    "risk_qa"
   ]
  },
  {
   "cell_type": "code",
   "execution_count": 15,
   "metadata": {},
   "outputs": [],
   "source": [
    "def horizon_score(question, answer):\n",
    "    score_map = {\n",
    "#         1: {\n",
    "#             1: 0,\n",
    "#             2: 1,\n",
    "#             3: 3,\n",
    "#             4: 6,\n",
    "#             5: 9,\n",
    "#             6: 11\n",
    "#         },\n",
    "        1: {\n",
    "            1: 0,\n",
    "            2: 2, # Added 2-1\n",
    "            3: 6, # Added 4-1\n",
    "            4: 10, # Added 5-1\n",
    "            5: 14, # Added 6-1\n",
    "            6: 15\n",
    "        },\n",
    "        2: {\n",
    "            1: 0,\n",
    "            2: 2,\n",
    "            3: 4,\n",
    "            4: 5,\n",
    "            5: 6\n",
    "        }\n",
    "    }\n",
    "    if question not in score_map:\n",
    "        raise Exception(f'Unknown horizon question {str(question)}')\n",
    "    return score_map[question][answer]"
   ]
  },
  {
   "cell_type": "code",
   "execution_count": 28,
   "metadata": {},
   "outputs": [],
   "source": [
    "def risk_score(question, answer):\n",
    "    score_map = {\n",
    "        3: {\n",
    "            1: 13,\n",
    "            2: 8,\n",
    "            3: 5,\n",
    "            4: 3\n",
    "        },\n",
    "        4: {\n",
    "            1: 5, # Added 1\n",
    "            2: 10, # Added 3\n",
    "            3: 15 # Added 4\n",
    "        },\n",
    "        5: {\n",
    "            1: 6, # Added 2\n",
    "            2: 9, # Added 2\n",
    "            3: 15 # Added 4\n",
    "        },\n",
    "        6: {\n",
    "           1: 3,\n",
    "            2: 5,\n",
    "            3: 8,\n",
    "            4: 13\n",
    "        },\n",
    "        7: {\n",
    "            1: 0,\n",
    "            2: 4,\n",
    "            3: 7,\n",
    "            4: 11,\n",
    "            5: 17 # Added 4\n",
    "        },\n",
    "        8: {\n",
    "            1: 0,\n",
    "            2: 4,\n",
    "            3: 7,\n",
    "            4: 11,\n",
    "            5: 17 # Added 4\n",
    "        },\n",
    "        9: {\n",
    "            1: 0,\n",
    "            2: 4,\n",
    "            3: 7,\n",
    "            4: 11,\n",
    "            5: 17 # Added 4\n",
    "        },\n",
    "        10: {\n",
    "            1: 14, # Added 1\n",
    "            2: 8,\n",
    "            3: 5,\n",
    "            4: 3\n",
    "        }\n",
    "    }\n",
    "    if question not in score_map:\n",
    "        raise Exception(f'Unknown risk question {str(question)}')\n",
    "    return score_map[question][answer]"
   ]
  },
  {
   "cell_type": "code",
   "execution_count": 29,
   "metadata": {},
   "outputs": [],
   "source": [
    "hs = sum([horizon_score(q, a) for q,a in horizon_qa.items()])\n",
    "rs = sum([risk_score(q, a) for q,a in risk_qa.items()])"
   ]
  },
  {
   "cell_type": "code",
   "execution_count": 30,
   "metadata": {},
   "outputs": [],
   "source": [
    "def total_score(hs, rs):\n",
    "    if hs < 1:\n",
    "        return None\n",
    "    if 1 <= hs < 3:\n",
    "        return 1\n",
    "    if 3 <= hs < 6:\n",
    "        if rs < 24:\n",
    "            return 1\n",
    "        return 2\n",
    "    if 6 <= hs < 8:\n",
    "        if rs < 24:\n",
    "            return 1\n",
    "        if rs < 44:\n",
    "            return 2\n",
    "        return 3\n",
    "    if 8 <= hs < 11:\n",
    "        if rs < 24:\n",
    "            return 1\n",
    "        if rs < 44:\n",
    "            return 2\n",
    "        if rs < 65:\n",
    "            return 3\n",
    "        return 4\n",
    "    # rs >= 11\n",
    "    if rs < 24:\n",
    "        return 1\n",
    "    if rs < 44:\n",
    "        return 2\n",
    "    if rs < 65:\n",
    "        return 3\n",
    "    if rs < 85:\n",
    "        return 4\n",
    "    return 5"
   ]
  },
  {
   "cell_type": "code",
   "execution_count": 31,
   "metadata": {},
   "outputs": [
    {
     "data": {
      "text/plain": [
       "2"
      ]
     },
     "execution_count": 31,
     "metadata": {},
     "output_type": "execute_result"
    }
   ],
   "source": [
    "total_score(hs, rs)"
   ]
  },
  {
   "cell_type": "code",
   "execution_count": null,
   "metadata": {},
   "outputs": [],
   "source": []
  },
  {
   "cell_type": "code",
   "execution_count": null,
   "metadata": {},
   "outputs": [],
   "source": []
  },
  {
   "cell_type": "markdown",
   "metadata": {},
   "source": [
    "# Omer little investor"
   ]
  },
  {
   "cell_type": "code",
   "execution_count": 32,
   "metadata": {},
   "outputs": [
    {
     "name": "stdout",
     "output_type": "stream",
     "text": [
      "None\n"
     ]
    }
   ],
   "source": [
    "no_risk_example = {\n",
    "    1: 1,\n",
    "    2: 1,\n",
    "    3: 1,\n",
    "    4: 1,\n",
    "    5: 1,\n",
    "    6: 1,\n",
    "    7: 1,\n",
    "    8: 1,\n",
    "}\n",
    "horizon_qa = {q:a for q,a in no_risk_example.items() if q == 1}\n",
    "risk_qa = {updated_risk_keys(q):a for q,a in no_risk_example.items() if q != 1}\n",
    "hs = sum([horizon_score(q, a) for q,a in horizon_qa.items()])\n",
    "rs = sum([risk_score(q, a) for q,a in risk_qa.items()])\n",
    "print(total_score(hs, rs))"
   ]
  },
  {
   "cell_type": "code",
   "execution_count": 33,
   "metadata": {},
   "outputs": [
    {
     "name": "stdout",
     "output_type": "stream",
     "text": [
      "1\n"
     ]
    }
   ],
   "source": [
    "minimal_risk_example = {\n",
    "    1: 2,\n",
    "    2: 1,\n",
    "    3: 1,\n",
    "    4: 1,\n",
    "    5: 1,\n",
    "    6: 1,\n",
    "    7: 1,\n",
    "    8: 1,\n",
    "}\n",
    "horizon_qa = {q:a for q,a in minimal_risk_example.items() if q == 1}\n",
    "risk_qa = {updated_risk_keys(q):a for q,a in minimal_risk_example.items() if q != 1}\n",
    "hs = sum([horizon_score(q, a) for q,a in horizon_qa.items()])\n",
    "rs = sum([risk_score(q, a) for q,a in risk_qa.items()])\n",
    "print(total_score(hs, rs))"
   ]
  },
  {
   "cell_type": "code",
   "execution_count": 34,
   "metadata": {},
   "outputs": [
    {
     "name": "stdout",
     "output_type": "stream",
     "text": [
      "2\n"
     ]
    }
   ],
   "source": [
    "minimal_risk_example = {\n",
    "    1: 3,\n",
    "    2: 1,\n",
    "    3: 1,\n",
    "    4: 1,\n",
    "    5: 1, # Change to 4, for example to jump to risk=3\n",
    "    6: 1,\n",
    "    7: 1,\n",
    "    8: 1,\n",
    "}\n",
    "horizon_qa = {q:a for q,a in minimal_risk_example.items() if q == 1}\n",
    "risk_qa = {updated_risk_keys(q):a for q,a in minimal_risk_example.items() if q != 1}\n",
    "hs = sum([horizon_score(q, a) for q,a in horizon_qa.items()])\n",
    "rs = sum([risk_score(q, a) for q,a in risk_qa.items()])\n",
    "print(total_score(hs, rs))"
   ]
  },
  {
   "cell_type": "code",
   "execution_count": 35,
   "metadata": {},
   "outputs": [
    {
     "name": "stdout",
     "output_type": "stream",
     "text": [
      "3\n"
     ]
    }
   ],
   "source": [
    "balanced_example = {\n",
    "    1: 3,\n",
    "    2: 4,\n",
    "    3: 3,\n",
    "    4: 2,\n",
    "    5: 4,\n",
    "    6: 5,\n",
    "    7: 3,\n",
    "    8: 2,\n",
    "}\n",
    "horizon_qa = {q:a for q,a in balanced_example.items() if q == 1}\n",
    "risk_qa = {updated_risk_keys(q):a for q,a in balanced_example.items() if q != 1}\n",
    "hs = sum([horizon_score(q, a) for q,a in horizon_qa.items()])\n",
    "rs = sum([risk_score(q, a) for q,a in risk_qa.items()])\n",
    "print(total_score(hs, rs))"
   ]
  },
  {
   "cell_type": "code",
   "execution_count": 36,
   "metadata": {},
   "outputs": [
    {
     "name": "stdout",
     "output_type": "stream",
     "text": [
      "4\n"
     ]
    }
   ],
   "source": [
    "balanced_example = {\n",
    "    1: 5,\n",
    "    2: 3,\n",
    "    3: 2,\n",
    "    4: 2,\n",
    "    5: 4,\n",
    "    6: 4,\n",
    "    7: 5,\n",
    "    8: 4,\n",
    "}\n",
    "horizon_qa = {q:a for q,a in balanced_example.items() if q == 1}\n",
    "risk_qa = {updated_risk_keys(q):a for q,a in balanced_example.items() if q != 1}\n",
    "hs = sum([horizon_score(q, a) for q,a in horizon_qa.items()])\n",
    "rs = sum([risk_score(q, a) for q,a in risk_qa.items()])\n",
    "print(total_score(hs, rs))"
   ]
  },
  {
   "cell_type": "code",
   "execution_count": 37,
   "metadata": {},
   "outputs": [
    {
     "name": "stdout",
     "output_type": "stream",
     "text": [
      "5\n"
     ]
    }
   ],
   "source": [
    "balanced_example = {\n",
    "    1: 6,\n",
    "    2: 4,\n",
    "    3: 3,\n",
    "    4: 3,\n",
    "    5: 5,\n",
    "    6: 5,\n",
    "    7: 5,\n",
    "    8: 4,\n",
    "}\n",
    "horizon_qa = {q:a for q,a in balanced_example.items() if q == 1}\n",
    "risk_qa = {updated_risk_keys(q):a for q,a in balanced_example.items() if q != 1}\n",
    "hs = sum([horizon_score(q, a) for q,a in horizon_qa.items()])\n",
    "rs = sum([risk_score(q, a) for q,a in risk_qa.items()])\n",
    "print(total_score(hs, rs))"
   ]
  },
  {
   "cell_type": "code",
   "execution_count": null,
   "metadata": {},
   "outputs": [],
   "source": []
  }
 ],
 "metadata": {
  "kernelspec": {
   "display_name": "Python 3",
   "language": "python",
   "name": "python3"
  },
  "language_info": {
   "codemirror_mode": {
    "name": "ipython",
    "version": 3
   },
   "file_extension": ".py",
   "mimetype": "text/x-python",
   "name": "python",
   "nbconvert_exporter": "python",
   "pygments_lexer": "ipython3",
   "version": "3.8.6"
  }
 },
 "nbformat": 4,
 "nbformat_minor": 4
}
